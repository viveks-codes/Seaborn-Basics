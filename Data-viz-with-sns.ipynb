{
 "cells": [
  {
   "cell_type": "markdown",
   "metadata": {},
   "source": [
    "![Image of Yaktocat](https://seaborn.pydata.org/_static/logo-wide-lightbg.svg)"
   ]
  },
  {
   "cell_type": "markdown",
   "metadata": {},
   "source": [
    "# Learn How to visualize Data With Seaborn Like Pro\n",
    "Seaborn :- Seaborn is a Python data visualization library based on matplotlib.It provides a high-level interface for drawing attractive and informative statistical graphics "
   ]
  },
  {
   "cell_type": "code",
   "execution_count": null,
   "metadata": {},
   "outputs": [],
   "source": [
    "# import necessary Modules(libraries) with suitable alias \n",
    "import pandas as pd \n",
    "import matplotlib.pyplot as plt\n",
    "import seaborn as sns\n",
    "\n",
    "%matplotlib inline"
   ]
  },
  {
   "cell_type": "code",
   "execution_count": null,
   "metadata": {},
   "outputs": [],
   "source": [
    "# get available dataset names from here  \n",
    "print(sns.get_dataset_names())"
   ]
  },
  {
   "cell_type": "code",
   "execution_count": null,
   "metadata": {},
   "outputs": [],
   "source": [
    "# Here you can load any dataset for this tutorial we are using dataset called 'mpg'  \n",
    "df = sns.load_dataset('mpg')"
   ]
  },
  {
   "cell_type": "code",
   "execution_count": null,
   "metadata": {
    "scrolled": true
   },
   "outputs": [],
   "source": [
    "# The head() function is used to get the first 5 rows\n",
    "df.head()"
   ]
  },
  {
   "cell_type": "code",
   "execution_count": null,
   "metadata": {},
   "outputs": [],
   "source": [
    "# get unique values from 'cylinders' column \n",
    "df[\"cylinders\"].unique()"
   ]
  },
  {
   "cell_type": "code",
   "execution_count": null,
   "metadata": {
    "scrolled": true
   },
   "outputs": [],
   "source": [
    "# plotting distplot \n",
    "sns.distplot(df['cylinders'], bins=6)"
   ]
  },
  {
   "cell_type": "code",
   "execution_count": null,
   "metadata": {
    "scrolled": false
   },
   "outputs": [],
   "source": [
    "# setting up ticks\n",
    "sns.distplot(df['cylinders'], bins=range(3,10,1))\n",
    "plt.xticks(range(3,9,1))"
   ]
  },
  {
   "cell_type": "code",
   "execution_count": null,
   "metadata": {
    "scrolled": true
   },
   "outputs": [],
   "source": [
    "# using argument kde=False to remove kernel density estimation (KDE)\n",
    "sns.distplot(df[\"cylinders\"], kde=False, bins=range(3,10,1))"
   ]
  },
  {
   "cell_type": "code",
   "execution_count": null,
   "metadata": {},
   "outputs": [],
   "source": [
    "# Removing Histogram using hist=False\n",
    "sns.distplot(df[\"cylinders\"], hist=False, bins=range(3,10,1))\n",
    "plt.xticks(range(3,9,1))"
   ]
  },
  {
   "cell_type": "code",
   "execution_count": null,
   "metadata": {},
   "outputs": [],
   "source": [
    "# plotting Count plot\n",
    "sns.countplot(x = 'cylinders', data=df)"
   ]
  },
  {
   "cell_type": "code",
   "execution_count": null,
   "metadata": {
    "scrolled": true
   },
   "outputs": [],
   "source": [
    "# Changing Color with arg color='red'\n",
    "sns.countplot(x = 'cylinders', data=df, color='red')"
   ]
  },
  {
   "cell_type": "code",
   "execution_count": null,
   "metadata": {},
   "outputs": [],
   "source": [
    "# get unique values from 'origin' column \n",
    "df['origin'].unique()"
   ]
  },
  {
   "cell_type": "code",
   "execution_count": null,
   "metadata": {},
   "outputs": [],
   "source": [
    "# plotting Countplot\n",
    "sns.countplot(x = 'cylinders', data=df, color='red', hue='origin')"
   ]
  },
  {
   "cell_type": "code",
   "execution_count": null,
   "metadata": {
    "scrolled": true
   },
   "outputs": [],
   "source": [
    "# changing Color Values\n",
    "sns.countplot(x = 'cylinders', data=df, color='blue', hue='origin')"
   ]
  },
  {
   "cell_type": "code",
   "execution_count": null,
   "metadata": {
    "scrolled": true
   },
   "outputs": [],
   "source": [
    "# Setting Legend location to lower right with matplotlib's legend function with arg loc = 'lower right'\n",
    "sns.countplot(x = 'cylinders', data=df, color='blue', hue='origin')\n",
    "plt.legend(loc = 'lower right')"
   ]
  },
  {
   "cell_type": "code",
   "execution_count": null,
   "metadata": {},
   "outputs": [],
   "source": [
    "# plotting boxplot , where axis y=acceleration\n",
    "sns.boxplot(y='acceleration', data=df)\n",
    "plt.xlabel('Acceleration')"
   ]
  },
  {
   "cell_type": "code",
   "execution_count": null,
   "metadata": {
    "scrolled": true
   },
   "outputs": [],
   "source": [
    "# plotting boxplot of acceleration vs origin\n",
    "sns.boxplot(x='origin',y='acceleration', data=df)"
   ]
  },
  {
   "cell_type": "code",
   "execution_count": null,
   "metadata": {
    "scrolled": true
   },
   "outputs": [],
   "source": [
    "# plotting boxplot of acceleration v/s cylinders\n",
    "sns.boxplot(x='cylinders',y='acceleration', data=df)"
   ]
  },
  {
   "cell_type": "code",
   "execution_count": null,
   "metadata": {},
   "outputs": [],
   "source": [
    "# plotting violinplot of acceleration v/s cylinders\n",
    "sns.violinplot(x='cylinders',y='acceleration', data=df)"
   ]
  },
  {
   "cell_type": "code",
   "execution_count": null,
   "metadata": {},
   "outputs": [],
   "source": [
    "# plotting swarmplot of acceleration v/s cylinders\n",
    "sns.swarmplot(x='cylinders',y='acceleration', data=df)"
   ]
  },
  {
   "cell_type": "code",
   "execution_count": null,
   "metadata": {},
   "outputs": [],
   "source": [
    "# plotting stripplot of  acceleration v/s cylinders \n",
    "sns.stripplot(x=\"cylinders\",y='acceleration', data=df)"
   ]
  },
  {
   "cell_type": "markdown",
   "metadata": {},
   "source": [
    "# Bivariate distribution \n",
    "Bivariate distribution are the probabilities that a certain event will occur when there are two independent random variables in your scenario. It can be in list form or table form like this. The distribution tells you the probability of each possible choice of your scenario."
   ]
  },
  {
   "cell_type": "code",
   "execution_count": null,
   "metadata": {},
   "outputs": [],
   "source": [
    "# plotting jointplot of horsepower v/s acceleration\n",
    "sns.jointplot(x='horsepower',y='acceleration', data=df)"
   ]
  },
  {
   "cell_type": "code",
   "execution_count": null,
   "metadata": {},
   "outputs": [],
   "source": [
    "# plotting scatterplot of  s acceleration v/s horsepower\n",
    "sns.scatterplot(x='horsepower',y='acceleration', data=df)"
   ]
  },
  {
   "cell_type": "code",
   "execution_count": null,
   "metadata": {},
   "outputs": [],
   "source": [
    "# adjusting alpha(opacity)\n",
    "sns.scatterplot(y='acceleration',x='horsepower', data=df, alpha=0.2)"
   ]
  },
  {
   "cell_type": "code",
   "execution_count": null,
   "metadata": {},
   "outputs": [],
   "source": [
    "# setting hue(Colors) by origin\n",
    "sns.scatterplot(y='acceleration',x='horsepower', hue='origin', data=df)"
   ]
  },
  {
   "cell_type": "code",
   "execution_count": null,
   "metadata": {
    "scrolled": false
   },
   "outputs": [],
   "source": [
    "# using matplotilb and subplotting graphs of seaborn\n",
    "plt.subplot(2,2,1)\n",
    "sns.scatterplot(y='acceleration',x='horsepower', hue='origin', data=df)\n",
    "\n",
    "plt.subplot(2,2,2)\n",
    "sns.scatterplot(y='acceleration',x='horsepower', data=df, alpha=0.2)\n",
    "\n",
    "plt.subplot(2,2,3)\n",
    "sns.boxplot(y='acceleration',x='origin', data=df)"
   ]
  },
  {
   "cell_type": "code",
   "execution_count": null,
   "metadata": {
    "scrolled": false
   },
   "outputs": [],
   "source": [
    "# setting up figure size \n",
    "plt.figure(figsize=(10,10))\n",
    "\n",
    "plt.subplot(2,2,1)\n",
    "sns.scatterplot(y='acceleration',x='horsepower', hue='origin', data=df)\n",
    "\n",
    "plt.subplot(2,2,2)\n",
    "sns.scatterplot(y='acceleration',x='horsepower', data=df, alpha=0.2)\n",
    "\n",
    "plt.subplot(2,2,3)\n",
    "sns.boxplot(y='acceleration',x='origin', data=df)\n",
    "\n"
   ]
  },
  {
   "cell_type": "code",
   "execution_count": null,
   "metadata": {},
   "outputs": [],
   "source": [
    "#Save the plot to image\n",
    "plt.figure(figsize=(10,10))\n",
    "\n",
    "\n",
    "plt.subplot(2,2,1)\n",
    "sns.scatterplot(y='acceleration',x='horsepower', hue='origin', data=df)\n",
    "\n",
    "plt.subplot(2,2,2)\n",
    "sns.scatterplot(y='acceleration',x='horsepower', data=df, alpha=0.2)\n",
    "\n",
    "plt.subplot(2,2,3)\n",
    "sns.boxplot(y='acceleration',x='origin', data=df)\n",
    "\n",
    "plt.savefig('my_plot.png')"
   ]
  },
  {
   "cell_type": "code",
   "execution_count": null,
   "metadata": {
    "scrolled": true
   },
   "outputs": [],
   "source": [
    "#plotting linear model plot\n",
    "sns.lmplot(x='horsepower', y='acceleration', data=df)"
   ]
  },
  {
   "cell_type": "code",
   "execution_count": null,
   "metadata": {
    "scrolled": true
   },
   "outputs": [],
   "source": [
    "#plotting linear model plot and setting up hue(colors)\n",
    "sns.lmplot(x='horsepower', y='acceleration', hue='origin',data=df)"
   ]
  },
  {
   "cell_type": "code",
   "execution_count": null,
   "metadata": {},
   "outputs": [],
   "source": [
    "# plotting in one row ('origin' col wise)\n",
    "sns.lmplot(x='horsepower', y='acceleration',col='origin', data=df)"
   ]
  },
  {
   "cell_type": "code",
   "execution_count": null,
   "metadata": {},
   "outputs": [],
   "source": [
    "# plotting in one col ('origin' row wise)\n",
    "sns.lmplot(x='horsepower', y='acceleration',row='origin', data=df)"
   ]
  },
  {
   "cell_type": "code",
   "execution_count": null,
   "metadata": {},
   "outputs": [],
   "source": []
  }
 ],
 "metadata": {
  "kernelspec": {
   "display_name": "Python 3",
   "language": "python",
   "name": "python3"
  },
  "language_info": {
   "codemirror_mode": {
    "name": "ipython",
    "version": 3
   },
   "file_extension": ".py",
   "mimetype": "text/x-python",
   "name": "python",
   "nbconvert_exporter": "python",
   "pygments_lexer": "ipython3",
   "version": "3.7.4"
  }
 },
 "nbformat": 4,
 "nbformat_minor": 2
}
